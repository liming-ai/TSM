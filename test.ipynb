{
 "metadata": {
  "language_info": {
   "codemirror_mode": {
    "name": "ipython",
    "version": 3
   },
   "file_extension": ".py",
   "mimetype": "text/x-python",
   "name": "python",
   "nbconvert_exporter": "python",
   "pygments_lexer": "ipython3",
   "version": "3.8.5-final"
  },
  "orig_nbformat": 2,
  "kernelspec": {
   "name": "Python 3.8.5 64-bit ('tsm': conda)",
   "display_name": "Python 3.8.5 64-bit ('tsm': conda)",
   "metadata": {
    "interpreter": {
     "hash": "a0aa4a1a38755867431a6a169f9c0dac56ea7d7659a95a5ade551bc4402e7442"
    }
   }
  }
 },
 "nbformat": 4,
 "nbformat_minor": 2,
 "cells": [
  {
   "cell_type": "code",
   "execution_count": 1,
   "metadata": {},
   "outputs": [],
   "source": [
    "import numpy as np"
   ]
  },
  {
   "cell_type": "code",
   "execution_count": 2,
   "metadata": {},
   "outputs": [],
   "source": [
    "frame_inds = np.array([0, 3, 7, 10, 14, 17, 20, 24, 27, 31])"
   ]
  },
  {
   "cell_type": "code",
   "execution_count": 3,
   "metadata": {},
   "outputs": [
    {
     "output_type": "stream",
     "name": "stdout",
     "text": [
      "[ 0  3  7 10 14 17 20 24 27 31]\n"
     ]
    }
   ],
   "source": [
    "print(frame_inds)"
   ]
  },
  {
   "cell_type": "code",
   "execution_count": 4,
   "metadata": {},
   "outputs": [
    {
     "output_type": "stream",
     "name": "stdout",
     "text": [
      "[[ 0  8 16 24 32 40 48 56]\n [ 3 11 19 27 35 43 51 59]\n [ 7 15 23 31 39 47 55 63]\n [10 18 26 34 42 50 58 66]\n [14 22 30 38 46 54 62 70]\n [17 25 33 41 49 57 65 73]\n [20 28 36 44 52 60 68 76]\n [24 32 40 48 56 64 72 80]\n [27 35 43 51 59 67 75 83]\n [31 39 47 55 63 71 79 87]]\n"
     ]
    }
   ],
   "source": [
    "frame_inds = frame_inds[:, None] + np.arange(8)[None, :] * 8\n",
    "print(frame_inds)"
   ]
  },
  {
   "cell_type": "code",
   "execution_count": 5,
   "metadata": {},
   "outputs": [
    {
     "output_type": "stream",
     "name": "stdout",
     "text": [
      "[ 0  8 16 24 32 40 48 56  3 11 19 27 35 43 51 59  7 15 23 31 39 47 55 63\n 10 18 26 34 42 50 58 66 14 22 30 38 46 54 62 70 17 25 33 41 49 57 65 73\n 20 28 36 44 52 60 68 76 24 32 40 48 56 64 72 80 27 35 43 51 59 67 75 83\n 31 39 47 55 63 71 79 87]\n"
     ]
    }
   ],
   "source": [
    "frame_inds = np.concatenate(frame_inds)\n",
    "print(frame_inds)"
   ]
  },
  {
   "cell_type": "code",
   "execution_count": 6,
   "metadata": {},
   "outputs": [
    {
     "output_type": "stream",
     "name": "stdout",
     "text": [
      "[[ 0  8 16 24 32 40 48 56]\n [ 3 11 19 27 35 43 51 59]\n [ 7 15 23 31 39 47 55 63]\n [10 18 26 34 42 50 58 66]\n [14 22 30 38 46 54 62 70]\n [17 25 33 41 49 57 65 73]\n [20 28 36 44 52 60 68 76]\n [24 32 40 48 56 64 72 80]\n [27 35 43 51 59 67 75 83]\n [31 39 47 55 63 71 79 87]]\n"
     ]
    }
   ],
   "source": [
    "frame_inds = frame_inds.reshape((-1, 8))\n",
    "print(frame_inds)"
   ]
  },
  {
   "cell_type": "code",
   "execution_count": 7,
   "metadata": {},
   "outputs": [
    {
     "output_type": "stream",
     "name": "stdout",
     "text": [
      "(10, 8)\n"
     ]
    }
   ],
   "source": [
    "print(frame_inds.shape)"
   ]
  },
  {
   "cell_type": "code",
   "execution_count": 8,
   "metadata": {},
   "outputs": [
    {
     "output_type": "stream",
     "name": "stdout",
     "text": [
      "131\n"
     ]
    }
   ],
   "source": [
    "from decord import VideoReader\n",
    "from decord import cpu, gpu\n",
    "\n",
    "vr = VideoReader(\"data/videos/Bowling/v_Bowling_g01_c07.avi\", ctx=gpu(0))\n",
    "print(len(vr))"
   ]
  },
  {
   "cell_type": "code",
   "execution_count": 9,
   "metadata": {},
   "outputs": [
    {
     "output_type": "stream",
     "name": "stdout",
     "text": [
      "[[ 0  8 16 24 32 40 48 56]\n [ 3 11 19 27 35 43 51 59]\n [ 7 15 23 31 39 47 55 63]\n [10 18 26 34 42 50 58 66]\n [14 22 30 38 46 54 62 70]\n [17 25 33 41 49 57 65 73]\n [20 28 36 44 52 60 68 76]\n [24 32 40 48 56 64 72 80]\n [27 35 43 51 59 67 75 83]\n [31 39 47 55 63 71 79 87]]\n(10, 8)\n"
     ]
    }
   ],
   "source": [
    "safe_inds = frame_inds < len(vr)\n",
    "unsafe_inds = 1 - safe_inds\n",
    "last_ind = np.max(safe_inds * frame_inds, axis=1)\n",
    "new_inds = (safe_inds * frame_inds + (unsafe_inds.T * last_ind).T)\n",
    "frame_inds = new_inds\n",
    "\n",
    "print(frame_inds)\n",
    "print(frame_inds.shape)"
   ]
  },
  {
   "cell_type": "code",
   "execution_count": 10,
   "metadata": {},
   "outputs": [],
   "source": [
    "clips = [(vr.get_batch(clip_indices)).asnumpy() for clip_indices in frame_inds]"
   ]
  },
  {
   "cell_type": "code",
   "execution_count": 11,
   "metadata": {},
   "outputs": [
    {
     "output_type": "stream",
     "name": "stdout",
     "text": [
      "(10, 8, 240, 320, 3)\n"
     ]
    }
   ],
   "source": [
    "cc=np.stack(clips)\n",
    "print(cc.shape)"
   ]
  },
  {
   "cell_type": "code",
   "execution_count": 13,
   "metadata": {
    "tags": []
   },
   "outputs": [
    {
     "output_type": "stream",
     "name": "stdout",
     "text": [
      "torch.Size([10, 8, 240, 320, 3])\n"
     ]
    }
   ],
   "source": [
    "import torch\n",
    "\n",
    "x = torch.from_numpy(cc)\n",
    "print(x.shape)"
   ]
  },
  {
   "cell_type": "code",
   "execution_count": 14,
   "metadata": {},
   "outputs": [
    {
     "output_type": "stream",
     "name": "stdout",
     "text": [
      "<class 'torch.Tensor'>\n"
     ]
    }
   ],
   "source": [
    "print(type(x))"
   ]
  }
 ]
}